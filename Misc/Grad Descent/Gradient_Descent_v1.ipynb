{
  "nbformat": 4,
  "nbformat_minor": 0,
  "metadata": {
    "colab": {
      "provenance": []
    },
    "kernelspec": {
      "name": "python3",
      "display_name": "Python 3"
    },
    "language_info": {
      "name": "python"
    }
  },
  "cells": [
    {
      "cell_type": "markdown",
      "source": [
        "# 1. Objective\n",
        "- Create a function to implent a Gradient Descent\n",
        "- Find the slope and coeffiecnt\n",
        "- validate via regression eqn\n",
        "- Date: 11 Sep 2024"
      ],
      "metadata": {
        "id": "zdsg9KRr8saX"
      }
    },
    {
      "cell_type": "markdown",
      "source": [
        "# 2. Creating Data Set"
      ],
      "metadata": {
        "id": "mhunJqvHAOmR"
      }
    },
    {
      "cell_type": "code",
      "source": [
        "import numpy as np\n",
        "\n",
        "\n",
        "# lets suppose we have two arrays, Area and Rent of the Room in benagluru\n",
        "\n",
        "#Room area in square feet---------\n",
        "area = np.array([ 2317,1335,841,521,1999,1627,2188,2117,2308,2256,1372])\n",
        "\n",
        "\n",
        "# Room Rent in Rupees-------------\n",
        "rent = np.array([52769,30839,19784,13531,45435,37036,50194,48122,52715,51072,31871])\n"
      ],
      "metadata": {
        "id": "6eXcopMy9zPs"
      },
      "execution_count": 76,
      "outputs": []
    },
    {
      "cell_type": "markdown",
      "source": [
        "# Create Gradient Descent Function"
      ],
      "metadata": {
        "id": "zqJEuMSrAhJ7"
      }
    },
    {
      "cell_type": "code",
      "source": [
        "def grad_desc(x,y, learning_rate, iterations):\n",
        "  # As per theory, we have to start with some value for slope(m) and coeffiecnt(b) to reach to global minima\n",
        "  m_curr = 0\n",
        "  b_curr = 0\n",
        "  n = len(x) # no of observations\n",
        "\n",
        "  #-----------\n",
        "  # learning_rate  it can be adjusted as model behave, its generally started with 0.001\n",
        "  # how many number of iteration, we are going to do we will fine tune it later\n",
        "\n",
        "  #-----------\n",
        "  for i in range(iterations):\n",
        "    # at each steps we will calculate y_predicated value\n",
        "    y_pred = (m_curr * x) + b_curr\n",
        "\n",
        "    # calculate gradients : m_derivative and b_derivative\n",
        "    # partial Derivative\n",
        "    m_der = -(2/n) * sum(x * (y - y_pred))\n",
        "    b_der = -(2/n) * sum(y-y_pred)\n",
        "\n",
        "    # now updated m_curr and b_curr will become\n",
        "    m_curr = m_curr - (learning_rate * m_der)\n",
        "    b_curr = b_curr - (learning_rate * b_der)\n",
        "\n",
        "\n",
        "    # print these values too\n",
        "    # print(\"m: {}; b: {},Cost {},  iteration: {}\".format(m_curr, b_curr, round(cost,2), i))\n",
        "\n",
        "    # print 100 observation series only\n",
        "    if i % 100 == 0:\n",
        "            print(f\"Iteration {i}: m = {m_curr}, b = {b_curr}\")\n",
        "\n",
        "\n",
        "\n",
        "\n",
        "\n"
      ],
      "metadata": {
        "id": "2Rhxfkx-Amow"
      },
      "execution_count": 77,
      "outputs": []
    },
    {
      "cell_type": "code",
      "source": [
        "grad_desc(area,rent, learning_rate = 0.001, iterations = 1000)\n",
        "\n",
        "\n",
        "'''\n",
        " - here m and b grow exponetially large and eventually -inf,\n",
        " - suggest that learning rate is too high,\n",
        " - causing gradient descent to diverge rather than converge to an optimal solution\n",
        "\n",
        " - another reason: standardize the input variable as it is big\n",
        "\n",
        " '''"
      ],
      "metadata": {
        "colab": {
          "base_uri": "https://localhost:8080/",
          "height": 296
        },
        "id": "xOtDNM2MAM3M",
        "outputId": "53fb4e4c-e6d9-4983-e394-404a9b039584"
      },
      "execution_count": 78,
      "outputs": [
        {
          "output_type": "stream",
          "name": "stdout",
          "text": [
            "Iteration 0: m = 151002.97818181818, b = 78.79418181818183\n",
            "Iteration 100: m = nan, b = nan\n",
            "Iteration 200: m = nan, b = nan\n",
            "Iteration 300: m = nan, b = nan\n",
            "Iteration 400: m = nan, b = nan\n",
            "Iteration 500: m = nan, b = nan\n",
            "Iteration 600: m = nan, b = nan\n",
            "Iteration 700: m = nan, b = nan\n",
            "Iteration 800: m = nan, b = nan\n",
            "Iteration 900: m = nan, b = nan\n"
          ]
        },
        {
          "output_type": "stream",
          "name": "stderr",
          "text": [
            "<ipython-input-77-ae728b6651fd>:18: RuntimeWarning: overflow encountered in multiply\n",
            "  m_der = -(2/n) * sum(x * (y - y_pred))\n",
            "<ipython-input-77-ae728b6651fd>:22: RuntimeWarning: invalid value encountered in scalar subtract\n",
            "  m_curr = m_curr - (learning_rate * m_der)\n"
          ]
        },
        {
          "output_type": "execute_result",
          "data": {
            "text/plain": [
              "'\\n - here m and b grow exponetially large and eventually -inf,\\n - suggest that learning rate is too high,\\n - causing gradient descent to diverge rather than converge to an optimal solution\\n\\n - another reason: standardize the input variable as it is big\\n\\n '"
            ],
            "application/vnd.google.colaboratory.intrinsic+json": {
              "type": "string"
            }
          },
          "metadata": {},
          "execution_count": 78
        }
      ]
    },
    {
      "cell_type": "code",
      "source": [
        "# lets first check with bit lower gradient descent values\n",
        "\n",
        "# grad_desc(area,rent, learning_rate = 0.03, iterations = 1000)\n",
        "\n",
        "# noticed : even at differnt learning rate m and b are becoming infinity, need to standardize the area array\n"
      ],
      "metadata": {
        "id": "w7pH8-CGJ28U"
      },
      "execution_count": 79,
      "outputs": []
    },
    {
      "cell_type": "code",
      "source": [
        "# standarised the array\n",
        "\n",
        "area_mean = area.mean()\n",
        "area_std = area.std()\n",
        "\n",
        "print('mean:{}, std:{}'.format(area_mean, area_std))\n",
        "\n",
        "area_scaled = (area - area_mean)/area_std\n",
        "print(area_scaled)"
      ],
      "metadata": {
        "colab": {
          "base_uri": "https://localhost:8080/"
        },
        "id": "i5kKaGUPKeZc",
        "outputId": "f47e7bac-5a25-4d06-d9c3-7b1809d2b451"
      },
      "execution_count": 80,
      "outputs": [
        {
          "output_type": "stream",
          "name": "stdout",
          "text": [
            "mean:1716.4545454545455, std:597.8753843457778\n",
            "[ 1.00446593 -0.63801681 -1.46427595 -1.99950454  0.47258252 -0.14962072\n",
            "  0.7887019   0.66994806  0.98941263  0.90243798 -0.576131  ]\n"
          ]
        }
      ]
    },
    {
      "cell_type": "code",
      "source": [
        "grad_desc(area_scaled,rent, learning_rate = 0.001, iterations = 1000)"
      ],
      "metadata": {
        "colab": {
          "base_uri": "https://localhost:8080/"
        },
        "id": "R_jgHTCALVFY",
        "outputId": "96f05873-c756-4883-c848-b691c8b84a52"
      },
      "execution_count": 81,
      "outputs": [
        {
          "output_type": "stream",
          "name": "stdout",
          "text": [
            "Iteration 0: m = 26.353897579960417, b = 78.79418181818183\n",
            "Iteration 100: m = 2412.3083491561783, b = 7212.438391255805\n",
            "Iteration 200: m = 4365.371460715054, b = 13051.802737559266\n",
            "Iteration 300: m = 5964.084091298642, b = 17831.712551924422\n",
            "Iteration 400: m = 7272.737180930481, b = 21744.388055368156\n",
            "Iteration 500: m = 8343.957158956051, b = 24947.174340004778\n",
            "Iteration 600: m = 9220.82227348685, b = 27568.868875119733\n",
            "Iteration 700: m = 9938.594948431079, b = 29714.900993597854\n",
            "Iteration 800: m = 10526.13983345284, b = 31471.57164757924\n",
            "Iteration 900: m = 11007.084572596144, b = 32909.5239316987\n"
          ]
        }
      ]
    },
    {
      "cell_type": "code",
      "source": [
        "\n",
        "\n",
        "'''\n",
        "- to know how well you are doing with model, you have to print cost also at each iteration\n",
        "- at each iteration, our cost should reduce, for model to be getting better\n",
        "\n",
        "- for regression cost function we use mse (mean square error) i.e. 1/n*sum(y_actual - y_predicated)^sqr\n",
        "\n",
        "'''\n",
        "\n"
      ],
      "metadata": {
        "id": "tm0pA6r-Lxcc",
        "colab": {
          "base_uri": "https://localhost:8080/",
          "height": 53
        },
        "outputId": "6bde13dc-c255-4b4c-c19f-864201728f3f"
      },
      "execution_count": 82,
      "outputs": [
        {
          "output_type": "execute_result",
          "data": {
            "text/plain": [
              "'\\n- to know how well you are doing with model, you have to print cost also at each iteration\\n- at each iteration, our cost should reduce, for model to be getting better\\n\\n- for regression cost function we use mse (mean square error) i.e. 1/n*sum(y_actual - y_predicated)^sqr\\n\\n'"
            ],
            "application/vnd.google.colaboratory.intrinsic+json": {
              "type": "string"
            }
          },
          "metadata": {},
          "execution_count": 82
        }
      ]
    },
    {
      "cell_type": "code",
      "source": [
        "def grad_desc_2(x,y, learning_rate, iterations):\n",
        "  # As per theory, we have to start with some value for slope(m) and coeffiecnt(b) to reach to global minima\n",
        "  m_curr = 0\n",
        "  b_curr = 0\n",
        "  n = len(x) # no of observations\n",
        "\n",
        "  #-----------\n",
        "  # learning_rate  it can be adjusted as model behave, its generally started with 0.001\n",
        "  # how many number of iteration, we are going to do we will fine tune it later\n",
        "\n",
        "  #-----------\n",
        "  for i in range(iterations):\n",
        "    # at each steps we will calculate y_predicated value\n",
        "    y_pred = m_curr * x + b_curr\n",
        "\n",
        "\n",
        "    # Compute cost (mean Squared error)\n",
        "    cost = (1/n) * sum(val**2 for val in y - y_pred)\n",
        "\n",
        "    # calculate gradients : m_derivative and b_derivative\n",
        "    # partial Derivative\n",
        "    m_der = -(2/n) * sum(x * (y - y_pred))\n",
        "    b_der = -(2/n) * sum(y-y_pred)\n",
        "\n",
        "    # now updated m_curr and b_curr will become\n",
        "    m_curr = m_curr - (learning_rate * m_der)\n",
        "    b_curr = b_curr - (learning_rate * b_der)\n",
        "\n",
        "\n",
        "    # print these values too\n",
        "\n",
        "    # print(\"m: {}; b: {},Cost {},  iteration: {}\".format(m_curr, b_curr, round(cost,2), i))\n",
        "\n",
        "    # print 100 observation series only\n",
        "    if i % 100 == 0:\n",
        "            print(f\"Iteration {i}: m = {m_curr}, b = {b_curr},  Cost {round(cost,2)}\")"
      ],
      "metadata": {
        "id": "NOL6GJ6cOLux"
      },
      "execution_count": 83,
      "outputs": []
    },
    {
      "cell_type": "markdown",
      "source": [],
      "metadata": {
        "id": "wg-JVtQbRQqD"
      }
    },
    {
      "cell_type": "code",
      "source": [
        "grad_desc_2(area_scaled,rent, learning_rate = 0.001, iterations = 1000)"
      ],
      "metadata": {
        "colab": {
          "base_uri": "https://localhost:8080/"
        },
        "id": "tV3Vv3mCPD1E",
        "outputId": "824b7baa-94fe-4a11-f094-4c7cb2bc3343"
      },
      "execution_count": 84,
      "outputs": [
        {
          "output_type": "stream",
          "name": "stdout",
          "text": [
            "Iteration 0: m = 26.353897579960417, b = 78.79418181818183,  Cost 1725841453.64\n",
            "Iteration 100: m = 2412.3083491561783, b = 7212.438391255805,  Cost 1156428818.7\n",
            "Iteration 200: m = 4365.371460715054, b = 13051.802737559266,  Cost 774892963.78\n",
            "Iteration 300: m = 5964.084091298642, b = 17831.712551924422,  Cost 519244248.5\n",
            "Iteration 400: m = 7272.737180930481, b = 21744.388055368156,  Cost 347946414.27\n",
            "Iteration 500: m = 8343.957158956051, b = 24947.174340004778,  Cost 233168024.01\n",
            "Iteration 600: m = 9220.82227348685, b = 27568.868875119733,  Cost 156260578.4\n",
            "Iteration 700: m = 9938.594948431079, b = 29714.900993597854,  Cost 104728620.36\n",
            "Iteration 800: m = 10526.13983345284, b = 31471.57164757924,  Cost 70199548.72\n",
            "Iteration 900: m = 11007.084572596144, b = 32909.5239316987,  Cost 47063288.54\n"
          ]
        }
      ]
    },
    {
      "cell_type": "markdown",
      "source": [
        "# 5. Gradient Descent : When to stop iteration\n",
        "\n",
        "- fixed Number of iteration, to obtain optimal results , the number of iteration shouldn't be too low or excessively high\n",
        "- Convergence Criteria: Have to stop, when change in cost between iteration is less than a small threshold, i.e. set a **tolerance level** i.e. 1e-6\n",
        "- Early stopping: Montior the performance on a validation set during training, if the performance (cost) on the validation set starts to worsen, stop training\n",
        "- Gradient Magnitude: Stop when graidents become very small\n"
      ],
      "metadata": {
        "id": "Mw04FoHiRTmx"
      }
    },
    {
      "cell_type": "code",
      "source": [
        "grad_desc_2(area_scaled,rent, learning_rate = 0.01, iterations = 1000)\n",
        "\n",
        "'''\n",
        "- with increase in learning rate\n",
        "- after iteration 543 cost function is around 5702 only ( no drastic change)\n",
        "\n",
        "'''"
      ],
      "metadata": {
        "colab": {
          "base_uri": "https://localhost:8080/",
          "height": 209
        },
        "id": "-nHqaglYRRdi",
        "outputId": "8df742c5-2727-4786-d587-3e166295981e"
      },
      "execution_count": 85,
      "outputs": [
        {
          "output_type": "stream",
          "name": "stdout",
          "text": [
            "Iteration 0: m = 263.53897579960415, b = 787.9418181818182,  Cost 1725841453.64\n",
            "Iteration 100: m = 11464.378115336627, b = 34276.762703180226,  Cost 30431325.25\n",
            "Iteration 200: m = 12949.8284276706, b = 38718.03525638767,  Cost 612542.44\n",
            "Iteration 300: m = 13146.82818839605, b = 39307.03485000158,  Cost 88091.28\n",
            "Iteration 400: m = 13172.95420917483, b = 39385.147714528845,  Cost 78867.26\n",
            "Iteration 500: m = 13176.419030447809, b = 39395.50700793213,  Cost 78705.03\n",
            "Iteration 600: m = 13176.878533506291, b = 39396.880852822665,  Cost 78702.17\n",
            "Iteration 700: m = 13176.939472597838, b = 39397.063051521895,  Cost 78702.12\n",
            "Iteration 800: m = 13176.947554313092, b = 39397.08721463248,  Cost 78702.12\n",
            "Iteration 900: m = 13176.94862610658, b = 39397.09041913346,  Cost 78702.12\n"
          ]
        },
        {
          "output_type": "execute_result",
          "data": {
            "text/plain": [
              "'\\n- with increase in learning rate\\n- after iteration 543 cost function is around 5702 only ( no drastic change)\\n\\n'"
            ],
            "application/vnd.google.colaboratory.intrinsic+json": {
              "type": "string"
            }
          },
          "metadata": {},
          "execution_count": 85
        }
      ]
    },
    {
      "cell_type": "code",
      "source": [
        "grad_desc_2(area_scaled,rent, learning_rate = 0.01, iterations = 540)"
      ],
      "metadata": {
        "colab": {
          "base_uri": "https://localhost:8080/"
        },
        "id": "4cRK7rJUUkvD",
        "outputId": "01a9901b-4d11-483a-af13-9da58b5ca331"
      },
      "execution_count": 86,
      "outputs": [
        {
          "output_type": "stream",
          "name": "stdout",
          "text": [
            "Iteration 0: m = 263.53897579960415, b = 787.9418181818182,  Cost 1725841453.64\n",
            "Iteration 100: m = 11464.378115336627, b = 34276.762703180226,  Cost 30431325.25\n",
            "Iteration 200: m = 12949.8284276706, b = 38718.03525638767,  Cost 612542.44\n",
            "Iteration 300: m = 13146.82818839605, b = 39307.03485000158,  Cost 88091.28\n",
            "Iteration 400: m = 13172.95420917483, b = 39385.147714528845,  Cost 78867.26\n",
            "Iteration 500: m = 13176.419030447809, b = 39395.50700793213,  Cost 78705.03\n"
          ]
        }
      ]
    },
    {
      "cell_type": "code",
      "source": [
        "# so we have equation\n",
        "m = 13176.4\n",
        "b = 39396\n",
        "\n",
        "# lets plot the data see the accuracy\n",
        "\n",
        "\n",
        "import matplotlib.pyplot as plt\n",
        "import seaborn as sns\n",
        "\n",
        "\n",
        "\n",
        "sns.scatterplot(x = area_scaled, y  = rent)\n",
        "\n",
        "plt.plot(area_scaled, m * area_scaled + b, color = 'red', label=f'y = {round(m, 2)}x + {round(b, 2)}')\n",
        "# Adding labels and showing plot\n",
        "plt.xlabel('Scaled Area (Standardized)')\n",
        "plt.ylabel('Rent (Rupees)')\n",
        "plt.title('Regression Line with Scaled Area and Rent')\n",
        "plt.legend()\n",
        "plt.show()\n"
      ],
      "metadata": {
        "id": "3k9J42qHUxSG",
        "colab": {
          "base_uri": "https://localhost:8080/",
          "height": 472
        },
        "outputId": "c87cf5c1-5f45-4885-bc59-e0bd0d4906b9"
      },
      "execution_count": 87,
      "outputs": [
        {
          "output_type": "display_data",
          "data": {
            "text/plain": [
              "<Figure size 640x480 with 1 Axes>"
            ],
            "image/png": "[encoded data removed]"
          },
          "metadata": {}
        }
      ]
    },
    {
      "cell_type": "markdown",
      "source": [
        "# Happy Learning"
      ],
      "metadata": {
        "id": "5ah3JvtQ1NdK"
      }
    }
  ]
}