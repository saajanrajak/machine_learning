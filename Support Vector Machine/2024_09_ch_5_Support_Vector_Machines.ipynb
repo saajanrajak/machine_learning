{
 "cells": [
  {
   "cell_type": "markdown",
   "id": "44ed3f1c",
   "metadata": {},
   "source": [
    "# Contents\n",
    "  - Core Concepts of **Support Vector Machines (SVM)** \n",
    "  - How to use them\n",
    "  - How they work\n",
    "  \n",
    "  \n",
    "# ----\n",
    "  - **Linear SVM Classification**\n",
    "    - Soft Margin Classification\n",
    "  - **Non Linear CLassification**\n",
    "    - Polynomial Kernel\n",
    "    - Similarity Features\n",
    "    - Gaussian RBF Kernel\n",
    "    - SVM Classes and Computional Complexity\n",
    "  - **SVM Regression**\n",
    "\n",
    "  "
   ]
  },
  {
   "cell_type": "markdown",
   "id": "3ba69941",
   "metadata": {},
   "source": [
    "# 1. SVM "
   ]
  },
  {
   "cell_type": "markdown",
   "id": "acdd054b",
   "metadata": {},
   "source": [
    "**What is Support Vector Machine**\n",
    "\n",
    "  - Support Vector Machine is a supervised learning algorithm. \n",
    "  - primarly used for classification problems both Linear and Non Linear types\n",
    "  - can also be utilized in Regression and in outlier detection (also known as Novelty eg credit card transaction fraud)\n",
    "  \n",
    "**Goal of SVM**\n",
    "  - to find the optimal boundary (**Hyperplane** also known as decision boundary) that separtes data points of different class in such a way the margin of separtaion between two class is high.\n",
    "  - maximizing the margin(distance between the class) reduces the chance of misclassification\n",
    "\n",
    "\n",
    "**When It will be useful**\n",
    "\n",
    "  - large number of features (high dimensional space)\n",
    "  - when features is in large number in comparsion too observation (rows)\n",
    "  - Efficient for linear and nonlinear classifciaton\n",
    "  - works well when there is clear margin of separtaion\n",
    "  \n",
    "  \n",
    "**When not useful**\n",
    "  \n",
    "   - slow with large datasets\n",
    "   - choosing the right kernel function and tuning its hyperparameter can be tricky\n",
    "   - Not effective when there is overlap between classes\n",
    "   \n",
    "**Examples**\n",
    "  \n",
    "  - Outlier detection in high-dimensional datasets\n",
    "  - image classification\n",
    "  - spam detection"
   ]
  },
  {
   "cell_type": "markdown",
   "id": "463cbfc3",
   "metadata": {},
   "source": [
    "# 2. Linear SVM Classification"
   ]
  },
  {
   "cell_type": "markdown",
   "id": "1e86a787",
   "metadata": {},
   "source": [
    "**Def**\n",
    "- its a specific type of SVM classifcation, that is used to classify linear separable data\n",
    "- In this context data can be divided by straight line(2D), plane (3D) or hyperplane (higher dimensons)\n",
    "\n",
    "\n",
    "**Key Terminology**\n",
    "\n",
    "- **Hyperplane**\n",
    "   - its defined by eqn w*x + b\n",
    "      - w: weight vector (normal to hyperplane)\n",
    "      - x: Feature Vector\n",
    "      - b: bias term\n",
    "   - goal of linear SVM is to find optimal hyperplane that maximizes the the margin between the two classes\n",
    "\n",
    "- **Support Vector**\n",
    "   - the data points that closet to the hyperplane are crucial in defining position of hyperplane.\n",
    "   - these closet points(instances) are called support vector\n",
    "   - the SVM algorithm focuses on these data points because these are the ones that affect the decision boundary the most\n",
    "\n",
    "- **Maximizing the Margin**\n",
    "   - the margin is the distance between the hyperplane and the support vectors \n",
    "   - Linear SVM aims in maximizing this distance, leading to better generalization of unseen data\n",
    "\n",
    "\n",
    "- **Mathematical Formualtion**\n",
    "\n",
    "   - Assume \n",
    "      - Features vector X<sub>i<sub> \n",
    "      - Target feature (-1,1) as label : y<sub>i<sub>\n",
    "   \n",
    "    - Goal is to find w and b such that is following condition is satisfied\n",
    "         - y_i(W^T.X_i + b) >= 1 \n",
    "    \n",
    "    - to maximize the margin, we minimize the following objective function\n",
    "       - min1/2||w||<sup>2<sup>\n",
    "       - subject to the constraint y_i(W^T.X_i + b) >= 1 \n",
    "    \n",
    "    \n",
    "    \n",
    "  \n"
   ]
  },
  {
   "cell_type": "markdown",
   "id": "9ecd58ce",
   "metadata": {},
   "source": [
    "## 2.1 Soft Margin Classification"
   ]
  },
  {
   "cell_type": "markdown",
   "id": "d1546da5",
   "metadata": {},
   "source": [
    " - if all the instances is on the correct side, its called **Hard Margin classification**\n",
    "     - HMC, Works only if the data is linear separable\n",
    "     - It is senstive to outliers\n",
    "     - real world, its very rare to find totaly linear separable data\n",
    "     \n",
    "  - To avoid these issues, we need more flexible model,\n",
    "  - Objective: to find a good balance between keeping the margin plane area, \n",
    "                - as large as possible\n",
    "                - and limiting the violations( instances end up in middle of margin plane area or in wrong side)\n",
    "  - this is called soft margin classification\n",
    "  \n",
    "  \n",
    "\n",
    "\n",
    "  - the soft margin classification Regularization \n",
    "     - Regularization meaning: \n",
    "         - In machine learning world, is a techinque to prevent the model from overfitting\n",
    "         - by adding additional constraints and penalites to the model when its training\n",
    "         - it helps in improving model abilty to generalize to unseen data by dicouraging overly complex models\n",
    "     - **Soft Marging Classification Regularization parameter 𝐶**\n",
    "          - It controls the trade-off between **maximizing the margin** and **minimizing the classification error**.\n",
    "          - **Value of C**\n",
    "             - **Smaller Value of C:** allows more misclassifications and results in a wider margin\n",
    "             - **Large Value of C:** Prioritizes correctly classifying as many points as possible, potentially leading to a narrower margin\n",
    "             - As the value of C increases the margin decreases thus Hard SVM.\n",
    "             - If the values of C are very small the margin increases thus Soft margin VM.\n",
    "     \n",
    " "
   ]
  },
  {
   "cell_type": "markdown",
   "id": "52595efd",
   "metadata": {},
   "source": [
    "- Cost Function for \n",
    "    - min1/2||w|| + C* summation((from i to n), ξ_i)\n",
    "       - c:  regularization parameter that controls the trade-off between maximizing the margin and minimizing the classification error.\n",
    "       - ξ_i :are slack variables that measure the degree of misclassification for each data point\n",
    "    "
   ]
  },
  {
   "cell_type": "code",
   "execution_count": 1,
   "id": "83c04745",
   "metadata": {},
   "outputs": [],
   "source": [
    "# Use SVM classifier to detect Iris Virginica Flowers\n",
    "\n",
    "from sklearn.datasets import load_iris\n",
    "from sklearn.pipeline import make_pipeline\n",
    "from sklearn.preprocessing import StandardScaler\n",
    "from sklearn.svm import LinearSVC\n",
    "\n",
    "iris = load_iris(as_frame = True)\n",
    "X = iris.data[['petal length (cm)', 'petal width (cm)']].values\n",
    "y = (iris.target == 2) #making true for class iris virginica and other false"
   ]
  },
  {
   "cell_type": "code",
   "execution_count": 2,
   "id": "c8447dcb",
   "metadata": {},
   "outputs": [
    {
     "data": {
      "text/html": [
       "<style>#sk-container-id-1 {color: black;background-color: white;}#sk-container-id-1 pre{padding: 0;}#sk-container-id-1 div.sk-toggleable {background-color: white;}#sk-container-id-1 label.sk-toggleable__label {cursor: pointer;display: block;width: 100%;margin-bottom: 0;padding: 0.3em;box-sizing: border-box;text-align: center;}#sk-container-id-1 label.sk-toggleable__label-arrow:before {content: \"▸\";float: left;margin-right: 0.25em;color: #696969;}#sk-container-id-1 label.sk-toggleable__label-arrow:hover:before {color: black;}#sk-container-id-1 div.sk-estimator:hover label.sk-toggleable__label-arrow:before {color: black;}#sk-container-id-1 div.sk-toggleable__content {max-height: 0;max-width: 0;overflow: hidden;text-align: left;background-color: #f0f8ff;}#sk-container-id-1 div.sk-toggleable__content pre {margin: 0.2em;color: black;border-radius: 0.25em;background-color: #f0f8ff;}#sk-container-id-1 input.sk-toggleable__control:checked~div.sk-toggleable__content {max-height: 200px;max-width: 100%;overflow: auto;}#sk-container-id-1 input.sk-toggleable__control:checked~label.sk-toggleable__label-arrow:before {content: \"▾\";}#sk-container-id-1 div.sk-estimator input.sk-toggleable__control:checked~label.sk-toggleable__label {background-color: #d4ebff;}#sk-container-id-1 div.sk-label input.sk-toggleable__control:checked~label.sk-toggleable__label {background-color: #d4ebff;}#sk-container-id-1 input.sk-hidden--visually {border: 0;clip: rect(1px 1px 1px 1px);clip: rect(1px, 1px, 1px, 1px);height: 1px;margin: -1px;overflow: hidden;padding: 0;position: absolute;width: 1px;}#sk-container-id-1 div.sk-estimator {font-family: monospace;background-color: #f0f8ff;border: 1px dotted black;border-radius: 0.25em;box-sizing: border-box;margin-bottom: 0.5em;}#sk-container-id-1 div.sk-estimator:hover {background-color: #d4ebff;}#sk-container-id-1 div.sk-parallel-item::after {content: \"\";width: 100%;border-bottom: 1px solid gray;flex-grow: 1;}#sk-container-id-1 div.sk-label:hover label.sk-toggleable__label {background-color: #d4ebff;}#sk-container-id-1 div.sk-serial::before {content: \"\";position: absolute;border-left: 1px solid gray;box-sizing: border-box;top: 0;bottom: 0;left: 50%;z-index: 0;}#sk-container-id-1 div.sk-serial {display: flex;flex-direction: column;align-items: center;background-color: white;padding-right: 0.2em;padding-left: 0.2em;position: relative;}#sk-container-id-1 div.sk-item {position: relative;z-index: 1;}#sk-container-id-1 div.sk-parallel {display: flex;align-items: stretch;justify-content: center;background-color: white;position: relative;}#sk-container-id-1 div.sk-item::before, #sk-container-id-1 div.sk-parallel-item::before {content: \"\";position: absolute;border-left: 1px solid gray;box-sizing: border-box;top: 0;bottom: 0;left: 50%;z-index: -1;}#sk-container-id-1 div.sk-parallel-item {display: flex;flex-direction: column;z-index: 1;position: relative;background-color: white;}#sk-container-id-1 div.sk-parallel-item:first-child::after {align-self: flex-end;width: 50%;}#sk-container-id-1 div.sk-parallel-item:last-child::after {align-self: flex-start;width: 50%;}#sk-container-id-1 div.sk-parallel-item:only-child::after {width: 0;}#sk-container-id-1 div.sk-dashed-wrapped {border: 1px dashed gray;margin: 0 0.4em 0.5em 0.4em;box-sizing: border-box;padding-bottom: 0.4em;background-color: white;}#sk-container-id-1 div.sk-label label {font-family: monospace;font-weight: bold;display: inline-block;line-height: 1.2em;}#sk-container-id-1 div.sk-label-container {text-align: center;}#sk-container-id-1 div.sk-container {/* jupyter's `normalize.less` sets `[hidden] { display: none; }` but bootstrap.min.css set `[hidden] { display: none !important; }` so we also need the `!important` here to be able to override the default hidden behavior on the sphinx rendered scikit-learn.org. See: https://github.com/scikit-learn/scikit-learn/issues/21755 */display: inline-block !important;position: relative;}#sk-container-id-1 div.sk-text-repr-fallback {display: none;}</style><div id=\"sk-container-id-1\" class=\"sk-top-container\"><div class=\"sk-text-repr-fallback\"><pre>Pipeline(steps=[(&#x27;standardscaler&#x27;, StandardScaler()),\n",
       "                (&#x27;linearsvc&#x27;, LinearSVC(C=1, random_state=42))])</pre><b>In a Jupyter environment, please rerun this cell to show the HTML representation or trust the notebook. <br />On GitHub, the HTML representation is unable to render, please try loading this page with nbviewer.org.</b></div><div class=\"sk-container\" hidden><div class=\"sk-item sk-dashed-wrapped\"><div class=\"sk-label-container\"><div class=\"sk-label sk-toggleable\"><input class=\"sk-toggleable__control sk-hidden--visually\" id=\"sk-estimator-id-1\" type=\"checkbox\" ><label for=\"sk-estimator-id-1\" class=\"sk-toggleable__label sk-toggleable__label-arrow\">Pipeline</label><div class=\"sk-toggleable__content\"><pre>Pipeline(steps=[(&#x27;standardscaler&#x27;, StandardScaler()),\n",
       "                (&#x27;linearsvc&#x27;, LinearSVC(C=1, random_state=42))])</pre></div></div></div><div class=\"sk-serial\"><div class=\"sk-item\"><div class=\"sk-estimator sk-toggleable\"><input class=\"sk-toggleable__control sk-hidden--visually\" id=\"sk-estimator-id-2\" type=\"checkbox\" ><label for=\"sk-estimator-id-2\" class=\"sk-toggleable__label sk-toggleable__label-arrow\">StandardScaler</label><div class=\"sk-toggleable__content\"><pre>StandardScaler()</pre></div></div></div><div class=\"sk-item\"><div class=\"sk-estimator sk-toggleable\"><input class=\"sk-toggleable__control sk-hidden--visually\" id=\"sk-estimator-id-3\" type=\"checkbox\" ><label for=\"sk-estimator-id-3\" class=\"sk-toggleable__label sk-toggleable__label-arrow\">LinearSVC</label><div class=\"sk-toggleable__content\"><pre>LinearSVC(C=1, random_state=42)</pre></div></div></div></div></div></div></div>"
      ],
      "text/plain": [
       "Pipeline(steps=[('standardscaler', StandardScaler()),\n",
       "                ('linearsvc', LinearSVC(C=1, random_state=42))])"
      ]
     },
     "execution_count": 2,
     "metadata": {},
     "output_type": "execute_result"
    }
   ],
   "source": [
    "#initialize the svm classifier\n",
    "\n",
    "svm_clf = make_pipeline(StandardScaler(),\n",
    "                       LinearSVC(C = 1 , random_state = 42))\n",
    "\n",
    "svm_clf.fit(X,y)"
   ]
  },
  {
   "cell_type": "code",
   "execution_count": 3,
   "id": "4ba1a994",
   "metadata": {},
   "outputs": [
    {
     "data": {
      "text/plain": [
       "array([ True, False])"
      ]
     },
     "execution_count": 3,
     "metadata": {},
     "output_type": "execute_result"
    }
   ],
   "source": [
    "# lets predict some class\n",
    "X_new = [[5.5, 1.7], \n",
    "         [5.0, 1.5]]\n",
    "\n",
    "svm_clf.predict(X_new)\n",
    "\n",
    "# here first classified as iris virginica while second is not"
   ]
  },
  {
   "cell_type": "code",
   "execution_count": 4,
   "id": "382300d3",
   "metadata": {},
   "outputs": [
    {
     "data": {
      "text/plain": [
       "array([ 0.66163411, -0.22036063])"
      ]
     },
     "execution_count": 4,
     "metadata": {},
     "output_type": "execute_result"
    }
   ],
   "source": [
    "svm_clf.decision_function(X_new)"
   ]
  },
  {
   "cell_type": "markdown",
   "id": "b2be060a",
   "metadata": {},
   "source": [
    "- unlike Logistic Regression, LinearSVC doesn't have predict_proba() method to estimate the class probalities\n",
    "- But with SVC, by setting the probabilty (hyperparameter) True, then model will fit an extra model at the end of training to map the SVM decisions functions scores to estimate the probabilities\n",
    "- Under the hood, this requires 5 fold cross validation to generate out of sample predications for every instance in training set, then training a logisitc model,so it will slow down training considerably\n",
    "- After that predict_proba() and Predicat_log_proba() methods will be available\n",
    "\n",
    "# ----"
   ]
  },
  {
   "cell_type": "markdown",
   "id": "a6f3d461",
   "metadata": {},
   "source": [
    "Then why we will use SVC\n",
    "\n",
    "  - Kernel Trick: SVC can use different kernels (e.g., polynomial, radial basis function) to model complex decision boundaries. This allows SVC to capture non-linear relationships in the data, which logistic regression cannot do unless transformed features are manually introduced.\n",
    "  - Flexibility: With different kernels, SVC can be adapted to various datasets without the need for explicit feature engineering.\n",
    "  \n",
    "  - Robustness: SVC focuses on maximizing the margin between classes, which can lead to better generalization on unseen data, especially in high-dimensional spaces\n",
    "  \n",
    "  - Handling Outliers: The SVM framework is robust to outliers due to the use of the support vectors for determining the decision boundary.\n",
    "  \n",
    "  - Effective in High Dimensions: SVC performs well when the number of features is greater than the number of samples, making it suitable for text classification and bioinformatics, where datasets often have thousands of features.\n",
    "  \n",
    "  - Support for Multi-class Classification:SVC can handle multi-class classification problems through strategies like one-vs-one or one-vs-all. This makes it suitable for applications with more than two classes\n",
    "  \n",
    "  - Regularization: SVC provides a way to control overfitting through its regularization parameter 𝐶. This can be beneficial in datasets where the balance between bias and variance is crucial."
   ]
  },
  {
   "cell_type": "markdown",
   "id": "d42602ea",
   "metadata": {},
   "source": [
    "**Kernel**\n",
    "  - a kernel in the machine learning context is a function that facilitates the computation of similarities between data points, enabling models to learn complex patterns in high-dimensional spaces without explicitly transforming the data. \n",
    "  - By using kernels, machine learning algorithms can achieve greater flexibility and efficiency in various tasks"
   ]
  },
  {
   "cell_type": "markdown",
   "id": "e0d9dd2a",
   "metadata": {},
   "source": [
    "# 3. Non Linear SVM Classification"
   ]
  },
  {
   "cell_type": "markdown",
   "id": "cc53cbe9",
   "metadata": {},
   "source": [
    "- Non linear SVM is an extension of standard SVM, that can handle non-linear separable data.\n",
    "- Unlike linear SVM, which aims to find a linear decision boundary between classes, \n",
    "- Non-linear SVM employs kernel functions to map the original input space into a higher-dimensional feature space where a linear decision boundary can be found."
   ]
  },
  {
   "cell_type": "code",
   "execution_count": 5,
   "id": "1b363990",
   "metadata": {},
   "outputs": [
    {
     "name": "stdout",
     "output_type": "stream",
     "text": [
      "[-4, -3, -2, -1, 0, 1, 2, 3, 4]\n",
      "[0, 0, 0, 0, 0, 0, 0, 0, 0]\n",
      "[16, 9, 4, 1, 0, 1, 4, 9, 16]\n"
     ]
    }
   ],
   "source": [
    "# Lets visualize Non Linear SVM classification\n",
    "\n",
    "x_1 = range(-4,5,1)\n",
    "y_1 = [0]*9\n",
    "\n",
    "y_2 = []\n",
    "\n",
    "for i in range(len(x_1)):\n",
    "    y = x_1[i] ** 2\n",
    "    y_2.append(y)\n",
    "#     print(y_2)\n",
    "               \n",
    "\n",
    "print(list(x_1))\n",
    "print(y_1)\n",
    "print(y_2)\n",
    "\n",
    "\n",
    "\n",
    "\n"
   ]
  },
  {
   "cell_type": "code",
   "execution_count": 6,
   "id": "7200094d",
   "metadata": {},
   "outputs": [],
   "source": [
    "# import matplotlib.pyplot as plt\n",
    "\n",
    "# plt.plot(list(x_1), y_1, marker = 'o', label = 'y_1',color = 'red')\n",
    "# plt.plot(list(x_1), y_2, marker = 'x', label = 'y_2', color = 'blue')\n",
    "\n",
    "# # Add labels and title\n",
    "# plt.xlabel('x_1 values')\n",
    "# plt.ylabel('y values')\n",
    "# plt.title('Plot of y_1 and y_2')\n",
    "\n",
    "# # Add a horizontal line at y = 6\n",
    "# plt.axhline(y=6, color='green', linestyle='--', label='y = 6')  # Dashed green line\n",
    "\n",
    "\n",
    "# plt.axhline(0, color='black',linewidth=0.5, ls='--')  # Add a horizontal line at y=0\n",
    "# plt.axvline(0, color='black',linewidth=0.5, ls='--')  # Add a vertical line at x=0\n",
    "# plt.grid()  # Add grid\n",
    "# plt.legend()  # Add legend\n",
    "\n",
    "\n",
    "\n",
    "\n"
   ]
  },
  {
   "cell_type": "code",
   "execution_count": 8,
   "id": "1deabcc2",
   "metadata": {},
   "outputs": [
    {
     "data": {
      "image/png": "[encoded data removed]",
      "text/plain": [
       "<Figure size 640x480 with 1 Axes>"
      ]
     },
     "metadata": {},
     "output_type": "display_data"
    }
   ],
   "source": [
    "\n",
    "import matplotlib.pyplot as plt\n",
    "# Define markers based on conditions\n",
    "markers = ['x' if value in [-4, -3, 3, 4] else 'o' for value in x_1]\n",
    "\n",
    "# Plot y_1 with the specified markers\n",
    "for i in range(len(x_1)):\n",
    "    plt.plot(x_1[i], y_1[i], marker=markers[i], color='blue', label='y_1 (Zeros)' if i == 0 else \"\")\n",
    "    \n",
    "# Plot y_2 with the specified markers\n",
    "for i in range(len(x_1)):\n",
    "    plt.plot(x_1[i], y_2[i], marker=markers[i], color='red', label='y_2 (Squares)' if i == 0 else \"\")\n",
    "    \n",
    "\n",
    "# Add a horizontal line at y = 6\n",
    "plt.axhline(y=6, color='green', linestyle='--', label='y = 6')  # Dashed green line\n",
    "\n",
    "# Add labels and title\n",
    "plt.xlabel('x_1 values')\n",
    "plt.ylabel('y values')\n",
    "plt.title('Dynamic Markers for y_1 and y_2')\n",
    "plt.axhline(0, color='black', linewidth=0.5, ls='--')  # Add a horizontal line at y=0\n",
    "plt.axvline(0, color='black', linewidth=0.5, ls='--')  # Add a vertical line at x=0\n",
    "plt.grid()  # Add grid\n",
    "plt.legend()  # Add legend\n",
    "\n",
    "# Show the plot\n",
    "plt.show()"
   ]
  },
  {
   "cell_type": "markdown",
   "id": "77a0349a",
   "metadata": {},
   "source": [
    "**Here we can see that** \n",
    "- in starting we cannot sepearte the x_1 (x and o markers/class) values by a hyperplane\n",
    "- but after squaring we can separte the classes\n",
    "\n",
    "- **example: non-linear SVM employs kernel functions to map the original input space into a higher-dimensional feature space where a linear decision boundary can be found**"
   ]
  },
  {
   "cell_type": "code",
   "execution_count": 10,
   "id": "7e49b408",
   "metadata": {},
   "outputs": [],
   "source": [
    "# another example\n",
    "\n",
    "from sklearn.datasets import make_moons\n",
    "from sklearn.preprocessing import PolynomialFeatures\n",
    "\n",
    "X,y = make_moons(n_samples = 100, noise = 0.15, random_state = 42)"
   ]
  },
  {
   "cell_type": "code",
   "execution_count": 12,
   "id": "2f1bc536",
   "metadata": {},
   "outputs": [
    {
     "data": {
      "text/html": [
       "<style>#sk-container-id-2 {color: black;background-color: white;}#sk-container-id-2 pre{padding: 0;}#sk-container-id-2 div.sk-toggleable {background-color: white;}#sk-container-id-2 label.sk-toggleable__label {cursor: pointer;display: block;width: 100%;margin-bottom: 0;padding: 0.3em;box-sizing: border-box;text-align: center;}#sk-container-id-2 label.sk-toggleable__label-arrow:before {content: \"▸\";float: left;margin-right: 0.25em;color: #696969;}#sk-container-id-2 label.sk-toggleable__label-arrow:hover:before {color: black;}#sk-container-id-2 div.sk-estimator:hover label.sk-toggleable__label-arrow:before {color: black;}#sk-container-id-2 div.sk-toggleable__content {max-height: 0;max-width: 0;overflow: hidden;text-align: left;background-color: #f0f8ff;}#sk-container-id-2 div.sk-toggleable__content pre {margin: 0.2em;color: black;border-radius: 0.25em;background-color: #f0f8ff;}#sk-container-id-2 input.sk-toggleable__control:checked~div.sk-toggleable__content {max-height: 200px;max-width: 100%;overflow: auto;}#sk-container-id-2 input.sk-toggleable__control:checked~label.sk-toggleable__label-arrow:before {content: \"▾\";}#sk-container-id-2 div.sk-estimator input.sk-toggleable__control:checked~label.sk-toggleable__label {background-color: #d4ebff;}#sk-container-id-2 div.sk-label input.sk-toggleable__control:checked~label.sk-toggleable__label {background-color: #d4ebff;}#sk-container-id-2 input.sk-hidden--visually {border: 0;clip: rect(1px 1px 1px 1px);clip: rect(1px, 1px, 1px, 1px);height: 1px;margin: -1px;overflow: hidden;padding: 0;position: absolute;width: 1px;}#sk-container-id-2 div.sk-estimator {font-family: monospace;background-color: #f0f8ff;border: 1px dotted black;border-radius: 0.25em;box-sizing: border-box;margin-bottom: 0.5em;}#sk-container-id-2 div.sk-estimator:hover {background-color: #d4ebff;}#sk-container-id-2 div.sk-parallel-item::after {content: \"\";width: 100%;border-bottom: 1px solid gray;flex-grow: 1;}#sk-container-id-2 div.sk-label:hover label.sk-toggleable__label {background-color: #d4ebff;}#sk-container-id-2 div.sk-serial::before {content: \"\";position: absolute;border-left: 1px solid gray;box-sizing: border-box;top: 0;bottom: 0;left: 50%;z-index: 0;}#sk-container-id-2 div.sk-serial {display: flex;flex-direction: column;align-items: center;background-color: white;padding-right: 0.2em;padding-left: 0.2em;position: relative;}#sk-container-id-2 div.sk-item {position: relative;z-index: 1;}#sk-container-id-2 div.sk-parallel {display: flex;align-items: stretch;justify-content: center;background-color: white;position: relative;}#sk-container-id-2 div.sk-item::before, #sk-container-id-2 div.sk-parallel-item::before {content: \"\";position: absolute;border-left: 1px solid gray;box-sizing: border-box;top: 0;bottom: 0;left: 50%;z-index: -1;}#sk-container-id-2 div.sk-parallel-item {display: flex;flex-direction: column;z-index: 1;position: relative;background-color: white;}#sk-container-id-2 div.sk-parallel-item:first-child::after {align-self: flex-end;width: 50%;}#sk-container-id-2 div.sk-parallel-item:last-child::after {align-self: flex-start;width: 50%;}#sk-container-id-2 div.sk-parallel-item:only-child::after {width: 0;}#sk-container-id-2 div.sk-dashed-wrapped {border: 1px dashed gray;margin: 0 0.4em 0.5em 0.4em;box-sizing: border-box;padding-bottom: 0.4em;background-color: white;}#sk-container-id-2 div.sk-label label {font-family: monospace;font-weight: bold;display: inline-block;line-height: 1.2em;}#sk-container-id-2 div.sk-label-container {text-align: center;}#sk-container-id-2 div.sk-container {/* jupyter's `normalize.less` sets `[hidden] { display: none; }` but bootstrap.min.css set `[hidden] { display: none !important; }` so we also need the `!important` here to be able to override the default hidden behavior on the sphinx rendered scikit-learn.org. See: https://github.com/scikit-learn/scikit-learn/issues/21755 */display: inline-block !important;position: relative;}#sk-container-id-2 div.sk-text-repr-fallback {display: none;}</style><div id=\"sk-container-id-2\" class=\"sk-top-container\"><div class=\"sk-text-repr-fallback\"><pre>Pipeline(steps=[(&#x27;polynomialfeatures&#x27;, PolynomialFeatures(degree=3)),\n",
       "                (&#x27;standardscaler&#x27;, StandardScaler()),\n",
       "                (&#x27;linearsvc&#x27;,\n",
       "                 LinearSVC(C=10, max_iter=10000, random_state=42))])</pre><b>In a Jupyter environment, please rerun this cell to show the HTML representation or trust the notebook. <br />On GitHub, the HTML representation is unable to render, please try loading this page with nbviewer.org.</b></div><div class=\"sk-container\" hidden><div class=\"sk-item sk-dashed-wrapped\"><div class=\"sk-label-container\"><div class=\"sk-label sk-toggleable\"><input class=\"sk-toggleable__control sk-hidden--visually\" id=\"sk-estimator-id-4\" type=\"checkbox\" ><label for=\"sk-estimator-id-4\" class=\"sk-toggleable__label sk-toggleable__label-arrow\">Pipeline</label><div class=\"sk-toggleable__content\"><pre>Pipeline(steps=[(&#x27;polynomialfeatures&#x27;, PolynomialFeatures(degree=3)),\n",
       "                (&#x27;standardscaler&#x27;, StandardScaler()),\n",
       "                (&#x27;linearsvc&#x27;,\n",
       "                 LinearSVC(C=10, max_iter=10000, random_state=42))])</pre></div></div></div><div class=\"sk-serial\"><div class=\"sk-item\"><div class=\"sk-estimator sk-toggleable\"><input class=\"sk-toggleable__control sk-hidden--visually\" id=\"sk-estimator-id-5\" type=\"checkbox\" ><label for=\"sk-estimator-id-5\" class=\"sk-toggleable__label sk-toggleable__label-arrow\">PolynomialFeatures</label><div class=\"sk-toggleable__content\"><pre>PolynomialFeatures(degree=3)</pre></div></div></div><div class=\"sk-item\"><div class=\"sk-estimator sk-toggleable\"><input class=\"sk-toggleable__control sk-hidden--visually\" id=\"sk-estimator-id-6\" type=\"checkbox\" ><label for=\"sk-estimator-id-6\" class=\"sk-toggleable__label sk-toggleable__label-arrow\">StandardScaler</label><div class=\"sk-toggleable__content\"><pre>StandardScaler()</pre></div></div></div><div class=\"sk-item\"><div class=\"sk-estimator sk-toggleable\"><input class=\"sk-toggleable__control sk-hidden--visually\" id=\"sk-estimator-id-7\" type=\"checkbox\" ><label for=\"sk-estimator-id-7\" class=\"sk-toggleable__label sk-toggleable__label-arrow\">LinearSVC</label><div class=\"sk-toggleable__content\"><pre>LinearSVC(C=10, max_iter=10000, random_state=42)</pre></div></div></div></div></div></div></div>"
      ],
      "text/plain": [
       "Pipeline(steps=[('polynomialfeatures', PolynomialFeatures(degree=3)),\n",
       "                ('standardscaler', StandardScaler()),\n",
       "                ('linearsvc',\n",
       "                 LinearSVC(C=10, max_iter=10000, random_state=42))])"
      ]
     },
     "execution_count": 12,
     "metadata": {},
     "output_type": "execute_result"
    }
   ],
   "source": [
    "polynomial_svm_clf = make_pipeline(\n",
    "PolynomialFeatures(degree = 3),\n",
    "    StandardScaler(),\n",
    "    LinearSVC(C = 10, max_iter = 10000, random_state = 42)\n",
    ")\n",
    "\n",
    "polynomial_svm_clf.fit(X,y)"
   ]
  },
  {
   "cell_type": "code",
   "execution_count": 13,
   "id": "d2df3a29",
   "metadata": {},
   "outputs": [
    {
     "data": {
      "image/png": "[encoded data removed]",
      "text/plain": [
       "<Figure size 1000x600 with 1 Axes>"
      ]
     },
     "metadata": {},
     "output_type": "display_data"
    }
   ],
   "source": [
    "# Define the plot function\n",
    "import numpy as np\n",
    "def plot_decision_boundary(clf, X, y):\n",
    "    # Create a mesh to plot the decision boundary\n",
    "    x_min, x_max = X[:, 0].min() - 1, X[:, 0].max() + 1\n",
    "    y_min, y_max = X[:, 1].min() - 1, X[:, 1].max() + 1\n",
    "    xx, yy = np.meshgrid(np.linspace(x_min, x_max, 100),\n",
    "                         np.linspace(y_min, y_max, 100))\n",
    "\n",
    "    # Predict using the classifier\n",
    "    Z = clf.predict(np.c_[xx.ravel(), yy.ravel()])\n",
    "    Z = Z.reshape(xx.shape)\n",
    "\n",
    "    # Plotting\n",
    "    plt.figure(figsize=(10, 6))\n",
    "    plt.contourf(xx, yy, Z, alpha=0.3, cmap=plt.cm.coolwarm)\n",
    "    plt.scatter(X[:, 0], X[:, 1], c=y, edgecolors='k', marker='o', cmap=plt.cm.coolwarm)\n",
    "    plt.xlabel('Feature 1')\n",
    "    plt.ylabel('Feature 2')\n",
    "    plt.title('Polynomial SVM Decision Boundary')\n",
    "    plt.axhline(0, color='black', linewidth=0.5, ls='--')\n",
    "    plt.axvline(0, color='black', linewidth=0.5, ls='--')\n",
    "    plt.grid()\n",
    "    plt.show()\n",
    "\n",
    "# Plot the decision boundary\n",
    "plot_decision_boundary(polynomial_svm_clf, X, y)"
   ]
  },
  {
   "cell_type": "markdown",
   "id": "0cb4d669",
   "metadata": {},
   "source": [
    "## 3.1 Polynomial Kernel"
   ]
  },
  {
   "cell_type": "markdown",
   "id": "fc6b2307",
   "metadata": {},
   "source": [
    "- in SVM, Polynomial Kernel used to model non-linear relationships by transforming data into higher dimensional space\n",
    "- Polynomial Kernel allows the SVM, to find a non-linear decision boundary that can classify data points more effectively when linear boundary doesn't suffice\n",
    "\n",
    "- instead of adding polynomial features, **Polynomial kernel** applies the transformation implicity, which can be more efficient \n",
    "\n",
    "- Polynomial kernel is particularly useful for datasets where the decision boundary is curved or complex but follows a polynomial pattern"
   ]
  },
  {
   "cell_type": "code",
   "execution_count": 15,
   "id": "463ab743",
   "metadata": {},
   "outputs": [],
   "source": [
    "# lets see how to utilize it\n",
    "\n",
    "from sklearn.svm import SVC\n",
    "poly_kernel_svc_clf = make_pipeline(\n",
    "StandardScaler(),\n",
    "SVC(kernel = \"poly\", # polynomial kernel is used.\n",
    "   degree = 3,\n",
    "   coef0 = 1,\n",
    "   C = 5)    \n",
    ")"
   ]
  },
  {
   "cell_type": "markdown",
   "id": "d6d5a459",
   "metadata": {},
   "source": [
    "**1. Degree -----**\n",
    "\n",
    "- the degree parameter in the polynomial kernel of an SVM determines the degree of the polynomial function that is used to map the input features into a higher-dimensional space\n",
    "- it defines how complex the decision boundary can be.\n",
    "- Choosing the appropriate degree is crucial\n",
    "    - Too low of a degree (like 1) might underfit the data, failing to capture the true relationship.\n",
    "    - Too high of a degree might overfit, especially in noisy datasets, by creating an overly complex decision boundary\n",
    "- tune the degree of the polynomial kernel using cross-validation to find the best fit for your specific problem\n",
    "    \n",
    "\n",
    "**2. C  -----**\n",
    "- Its regularization parameter that controls bewtween\n",
    "   - **Maximizing margin** - the distance between the decision boundary and the closest data points\n",
    "   - **Minimizing classification errors** - misclassifications or points inside the margin\n",
    "\n",
    "\n",
    "- Think of C as a penalty for misclassifying points or allowing points within the margin\n",
    "   - **High C**: \n",
    "       - The penalty for misclassification is high, so the model tries hard to classify every point correctly, even at the expense of a smaller margin.\n",
    "       - With high C, you might see the boundary hugging the data points closely, often resulting in small margins\n",
    "       - example , C:100\n",
    "  \n",
    "   - **Low C**: \n",
    "     - The penalty for misclassification is low, so the model allows for some points to be misclassified (or lie inside the margin) in exchange for a larger margin and better generalization\n",
    "     - With low C, the boundary is smoother and more distant from the data points, resulting in larger margins but possibly misclassifying some points.\n",
    "     - example c = 0.1\n",
    "        \n",
    "        "
   ]
  },
  {
   "cell_type": "markdown",
   "id": "96c4cea6",
   "metadata": {},
   "source": [
    "**3. Coef0  -----**\n",
    "- The coef0 parameter in the polynomial kernel (and also in the sigmoid kernel) controls the influence of higher-degree terms in the polynomial. It determines how much the model accounts for the interaction between the input features (the higher-degree terms) versus the individual features.\n",
    "\n",
    "- The coef0 parameter is particularly useful when you want to control the bias of the model toward simpler or more complex decision boundaries\n",
    "\n",
    "  - A low value of coef0 makes the model behave more like a linear classifier (even if the degree is greater than 1).\n",
    "  - A high value of coef0 amplifies the higher-degree terms, allowing the model to capture more complex patterns\n",
    "  "
   ]
  },
  {
   "cell_type": "markdown",
   "id": "82345fb8",
   "metadata": {},
   "source": [
    "## 3.2 Similarity Features\n",
    "\n",
    "- Another technique to tackle nonlinear problems is to add features computed using a similarity function, which measures how much each instance resembles a particular landmark\n",
    "- SVM uses similarity features based on how close or similar data points are in some space, potentially a higher-dimensional space\n",
    "\n",
    "**lets visualize with Example**\n",
    "\n",
    "**1, Scenario:**\n",
    "- Imagine you have two hills:\n",
    "   - Hill A represents Class A.\n",
    "   - Hill B represents Class B.\n",
    "   \n",
    "- several people standing around the hills, \n",
    "- and you want to classify each person into Class A (closer to Hill A) or Class B (closer to Hill B). \n",
    "- The decision will be based on their distance from the two hills. \n",
    "- In this context, similarity features refer to how we compare the distance of each person to both hills\n",
    "\n",
    "**2. Data Points (People):**\n",
    "\n",
    "   - Each person represents a data point. Let's say you measure their position in terms of their distance from Hill A and distance from Hill B.\n",
    "\n",
    "**3. Similarity Measure (Distance):**\n",
    "\n",
    "- The similarity in this case is measured by distance. \n",
    "   - If a person is very close to Hill A, we would say they are \"more similar\" to Hill A and therefore likely to belong to Class A.\n",
    "    - Similarly, if a person is closer to Hill B, they are \"more similar\" to Hill B and are likely to belong to Class B.\n",
    "\n",
    "**4. Classification:**\n",
    "\n",
    "- To classify each person, we use similarity features based on their distance from Hill A and Hill B. \n",
    "- If someone is closer to Hill A than to Hill B, they’ll be classified into Class A. \n",
    "- If they are closer to Hill B, they’ll be classified into Class B.\n",
    "\n",
    "**SVM's Role:**\n",
    "\n",
    "- SVM calculates these similarity features and finds the best possible decision boundary (let's imagine a straight line or curved boundary between the two hills) that maximizes the margin between the people classified as belonging to Class A (closer to Hill A) and Class B (closer to Hill B)"
   ]
  },
  {
   "cell_type": "markdown",
   "id": "999f5ac8",
   "metadata": {},
   "source": [
    "## 3.3 Gausian RBF Kernel"
   ]
  },
  {
   "cell_type": "markdown",
   "id": "7fa6b595",
   "metadata": {},
   "source": [
    "- Polynomial features method and Similarity features method can be useful to any machine learning algorithm. But it may be computationally expensive to compute all additional features\n",
    "\n",
    "- The RBF kernel is a specific type of similarity feature kernel that measures similarity based on distance and is very effective for non-linear SVM problems. On the other hand, similarity feature kernels is a broader concept, encompassing different ways to measure how alike two data points are, based on either distance, feature values, or other domain-specific similarities.\n",
    "\n",
    "- Hyperparameter 𝛾\n",
    "\n",
    "- The 𝛾 parameter in the RBF kernel controls the influence of individual training points:\n",
    "\n",
    "  - Low γ: The model considers points far apart as similar, leading to a smoother and more generalized decision boundary.\n",
    "  - High γ: The model focuses more on points close to the decision boundary, leading to a more complex, potentially overfitting model.\n",
    "  \n",
    "   - **small γ makes the decision boundary smoother**.\n",
    "   - **large γ makes the decision boundary more flexible and intricate (can overfit)**\n",
    "    - Need to carefully tune the hyperparameters, especially γ, to prevent overfitting (if γ is too high) or underfitting (if γ is too low).\n",
    "  \n",
    "  "
   ]
  },
  {
   "cell_type": "markdown",
   "id": "f7924689",
   "metadata": {},
   "source": [
    "## 3.4 Other Kernels"
   ]
  },
  {
   "cell_type": "markdown",
   "id": "67997432",
   "metadata": {},
   "source": [
    "- other kernels exists but are used rarely\n",
    "- String Kernels are sometimes used when classifying text documents or DNA Sequences\n",
    "  - it use Levenshtein Distance"
   ]
  },
  {
   "cell_type": "markdown",
   "id": "7a9053a2",
   "metadata": {},
   "source": [
    "## 3.5 So Many Kernels, which one to use"
   ]
  },
  {
   "cell_type": "markdown",
   "id": "42e6af9a",
   "metadata": {},
   "source": [
    "As Rule of thumb \n",
    "  - **First always try Linear Kernel**, \n",
    "  - LinearSVC is much faster than SVC(kernel = 'linear'), espically if the **training set is very large**\n",
    "  - **if data set is not large**, \n",
    "     - we should try  Gaussian RBF Kernel, it often works really well\n",
    "   - if you spare time and computing power, you can experiment with a few other kernels using hyperparameter search\n"
   ]
  },
  {
   "cell_type": "markdown",
   "id": "25427855",
   "metadata": {},
   "source": [
    "# 4. SVM Regression"
   ]
  },
  {
   "cell_type": "markdown",
   "id": "811facb8",
   "metadata": {},
   "source": [
    "- SVM Regression (SVR) works by finding a line (or plane/hyperplane in higher dimensions) such that most data points fall within a margin of tolerance (𝜀) around the hyperplane. \n",
    "\n",
    "- Points within this margin do not contribute to the model's loss function.\n",
    "   - The aim is to minimize the margin violations, i.e., instances where data points fall outside the 𝜀-tube.\n",
    "   - The width of the margin (𝜀-tube) is controlled by the epsilon (𝜀) hyperparameter.\n",
    "  - Reducing 𝜀 increases the number of support vectors, which adds more constraints to the model and serves as a form of regularization.\n",
    "  \n",
    "     - Fewer support vectors = better generalization (if too few, it can underfit).\n",
    "     - More support vectors = tighter fit to the data (but might overfit if too many are considered)\n",
    "     \n",
    "**Key Concepts  -----**\n",
    "\n",
    "- Margin of Tolerance (epsilon, 𝜀): In SVR, we define a margin of tolerance 𝜀, within which predictions are considered \"good enough.\" The model tries to fit as many points as possible within this margin while ensuring that the deviation from the actual values is minimal\n",
    "\n",
    "- Support Vectors: Just like in classification, support vectors are the data points that lie on the boundary or outside the 𝜀 margin. These points are the most important for determining the regression line\n",
    "\n",
    "- Regularization (C): SVR also uses a regularization parameter C that determines the trade-off between achieving a low error within the tolerance and keeping the model simple (i.e., having a larger margin)\n",
    "\n",
    "- Kernels: SVR can use various kernel functions (linear, polynomial, RBF) to model nonlinear relationships in the data. A kernel trick transforms the data into a higher-dimensional space, where it becomes easier to fit the regression line\n",
    "        \n",
    "**How it works ----**\n",
    "\n",
    "- SVR aims to minimize the error between the predicted and actual values but ignores errors that are within the epsilon margin (soft margin).\n",
    "- The objective is to find a hyperplane that maximizes the margin, while allowing some points to lie outside the margin if needed (depending on the value of 𝐶)\n",
    "\n"
   ]
  },
  {
   "cell_type": "markdown",
   "id": "0c305cf2",
   "metadata": {},
   "source": [
    "- In SVM (classification), the decision boundary is the hyperplane separating classes, and the margin is the space between this boundary and the closest data points (support vectors).\n",
    "- In SVR (regression), there is no decision boundary, but the margin (𝜀-tube) is the region around the regression line within which prediction errors are allowed without penalty."
   ]
  },
  {
   "cell_type": "code",
   "execution_count": 26,
   "id": "666f810c",
   "metadata": {},
   "outputs": [
    {
     "name": "stdout",
     "output_type": "stream",
     "text": [
      "   total_bill   tip     sex smoker  day    time  size\n",
      "0       16.99  1.01  Female     No  Sun  Dinner     2\n",
      "1       10.34  1.66    Male     No  Sun  Dinner     3\n",
      "2       21.01  3.50    Male     No  Sun  Dinner     3\n",
      "3       23.68  3.31    Male     No  Sun  Dinner     2\n",
      "4       24.59  3.61  Female     No  Sun  Dinner     4\n",
      "(244, 7)\n"
     ]
    }
   ],
   "source": [
    "import seaborn as sns\n",
    "\n",
    "# Load the tips dataset\n",
    "tips = sns.load_dataset(\"tips\")\n",
    "\n",
    "print(tips.head())\n",
    "print(tips.shape)\n",
    "\n",
    "X = tips[['total_bill', 'size']]\n",
    "y = tips[['tip']]\n",
    "\n",
    "\n",
    "from sklearn.model_selection import train_test_split\n",
    "X_train, X_test, y_train, y_test = train_test_split(X,y, random_state = 42, test_size = .2)"
   ]
  },
  {
   "cell_type": "code",
   "execution_count": 27,
   "id": "d213ebf9",
   "metadata": {},
   "outputs": [
    {
     "name": "stderr",
     "output_type": "stream",
     "text": [
      "/Users/saajanrajak/anaconda3/lib/python3.10/site-packages/sklearn/utils/validation.py:1143: DataConversionWarning: A column-vector y was passed when a 1d array was expected. Please change the shape of y to (n_samples, ), for example using ravel().\n",
      "  y = column_or_1d(y, warn=True)\n"
     ]
    },
    {
     "data": {
      "text/html": [
       "<style>#sk-container-id-4 {color: black;background-color: white;}#sk-container-id-4 pre{padding: 0;}#sk-container-id-4 div.sk-toggleable {background-color: white;}#sk-container-id-4 label.sk-toggleable__label {cursor: pointer;display: block;width: 100%;margin-bottom: 0;padding: 0.3em;box-sizing: border-box;text-align: center;}#sk-container-id-4 label.sk-toggleable__label-arrow:before {content: \"▸\";float: left;margin-right: 0.25em;color: #696969;}#sk-container-id-4 label.sk-toggleable__label-arrow:hover:before {color: black;}#sk-container-id-4 div.sk-estimator:hover label.sk-toggleable__label-arrow:before {color: black;}#sk-container-id-4 div.sk-toggleable__content {max-height: 0;max-width: 0;overflow: hidden;text-align: left;background-color: #f0f8ff;}#sk-container-id-4 div.sk-toggleable__content pre {margin: 0.2em;color: black;border-radius: 0.25em;background-color: #f0f8ff;}#sk-container-id-4 input.sk-toggleable__control:checked~div.sk-toggleable__content {max-height: 200px;max-width: 100%;overflow: auto;}#sk-container-id-4 input.sk-toggleable__control:checked~label.sk-toggleable__label-arrow:before {content: \"▾\";}#sk-container-id-4 div.sk-estimator input.sk-toggleable__control:checked~label.sk-toggleable__label {background-color: #d4ebff;}#sk-container-id-4 div.sk-label input.sk-toggleable__control:checked~label.sk-toggleable__label {background-color: #d4ebff;}#sk-container-id-4 input.sk-hidden--visually {border: 0;clip: rect(1px 1px 1px 1px);clip: rect(1px, 1px, 1px, 1px);height: 1px;margin: -1px;overflow: hidden;padding: 0;position: absolute;width: 1px;}#sk-container-id-4 div.sk-estimator {font-family: monospace;background-color: #f0f8ff;border: 1px dotted black;border-radius: 0.25em;box-sizing: border-box;margin-bottom: 0.5em;}#sk-container-id-4 div.sk-estimator:hover {background-color: #d4ebff;}#sk-container-id-4 div.sk-parallel-item::after {content: \"\";width: 100%;border-bottom: 1px solid gray;flex-grow: 1;}#sk-container-id-4 div.sk-label:hover label.sk-toggleable__label {background-color: #d4ebff;}#sk-container-id-4 div.sk-serial::before {content: \"\";position: absolute;border-left: 1px solid gray;box-sizing: border-box;top: 0;bottom: 0;left: 50%;z-index: 0;}#sk-container-id-4 div.sk-serial {display: flex;flex-direction: column;align-items: center;background-color: white;padding-right: 0.2em;padding-left: 0.2em;position: relative;}#sk-container-id-4 div.sk-item {position: relative;z-index: 1;}#sk-container-id-4 div.sk-parallel {display: flex;align-items: stretch;justify-content: center;background-color: white;position: relative;}#sk-container-id-4 div.sk-item::before, #sk-container-id-4 div.sk-parallel-item::before {content: \"\";position: absolute;border-left: 1px solid gray;box-sizing: border-box;top: 0;bottom: 0;left: 50%;z-index: -1;}#sk-container-id-4 div.sk-parallel-item {display: flex;flex-direction: column;z-index: 1;position: relative;background-color: white;}#sk-container-id-4 div.sk-parallel-item:first-child::after {align-self: flex-end;width: 50%;}#sk-container-id-4 div.sk-parallel-item:last-child::after {align-self: flex-start;width: 50%;}#sk-container-id-4 div.sk-parallel-item:only-child::after {width: 0;}#sk-container-id-4 div.sk-dashed-wrapped {border: 1px dashed gray;margin: 0 0.4em 0.5em 0.4em;box-sizing: border-box;padding-bottom: 0.4em;background-color: white;}#sk-container-id-4 div.sk-label label {font-family: monospace;font-weight: bold;display: inline-block;line-height: 1.2em;}#sk-container-id-4 div.sk-label-container {text-align: center;}#sk-container-id-4 div.sk-container {/* jupyter's `normalize.less` sets `[hidden] { display: none; }` but bootstrap.min.css set `[hidden] { display: none !important; }` so we also need the `!important` here to be able to override the default hidden behavior on the sphinx rendered scikit-learn.org. See: https://github.com/scikit-learn/scikit-learn/issues/21755 */display: inline-block !important;position: relative;}#sk-container-id-4 div.sk-text-repr-fallback {display: none;}</style><div id=\"sk-container-id-4\" class=\"sk-top-container\"><div class=\"sk-text-repr-fallback\"><pre>Pipeline(steps=[(&#x27;standardscaler&#x27;, StandardScaler()),\n",
       "                (&#x27;linearsvr&#x27;, LinearSVR(epsilon=0.5, random_state=42))])</pre><b>In a Jupyter environment, please rerun this cell to show the HTML representation or trust the notebook. <br />On GitHub, the HTML representation is unable to render, please try loading this page with nbviewer.org.</b></div><div class=\"sk-container\" hidden><div class=\"sk-item sk-dashed-wrapped\"><div class=\"sk-label-container\"><div class=\"sk-label sk-toggleable\"><input class=\"sk-toggleable__control sk-hidden--visually\" id=\"sk-estimator-id-11\" type=\"checkbox\" ><label for=\"sk-estimator-id-11\" class=\"sk-toggleable__label sk-toggleable__label-arrow\">Pipeline</label><div class=\"sk-toggleable__content\"><pre>Pipeline(steps=[(&#x27;standardscaler&#x27;, StandardScaler()),\n",
       "                (&#x27;linearsvr&#x27;, LinearSVR(epsilon=0.5, random_state=42))])</pre></div></div></div><div class=\"sk-serial\"><div class=\"sk-item\"><div class=\"sk-estimator sk-toggleable\"><input class=\"sk-toggleable__control sk-hidden--visually\" id=\"sk-estimator-id-12\" type=\"checkbox\" ><label for=\"sk-estimator-id-12\" class=\"sk-toggleable__label sk-toggleable__label-arrow\">StandardScaler</label><div class=\"sk-toggleable__content\"><pre>StandardScaler()</pre></div></div></div><div class=\"sk-item\"><div class=\"sk-estimator sk-toggleable\"><input class=\"sk-toggleable__control sk-hidden--visually\" id=\"sk-estimator-id-13\" type=\"checkbox\" ><label for=\"sk-estimator-id-13\" class=\"sk-toggleable__label sk-toggleable__label-arrow\">LinearSVR</label><div class=\"sk-toggleable__content\"><pre>LinearSVR(epsilon=0.5, random_state=42)</pre></div></div></div></div></div></div></div>"
      ],
      "text/plain": [
       "Pipeline(steps=[('standardscaler', StandardScaler()),\n",
       "                ('linearsvr', LinearSVR(epsilon=0.5, random_state=42))])"
      ]
     },
     "execution_count": 27,
     "metadata": {},
     "output_type": "execute_result"
    }
   ],
   "source": [
    "# code for Support vector regression\n",
    "\n",
    "from sklearn.svm import LinearSVR\n",
    "from sklearn.pipeline import make_pipeline\n",
    "\n",
    "svm_reg = make_pipeline(\n",
    "                        StandardScaler(),\n",
    "                        LinearSVR(epsilon = 0.5, random_state = 42))\n",
    "svm_reg.fit(X_train,y_train)"
   ]
  },
  {
   "cell_type": "code",
   "execution_count": 35,
   "id": "6a215079",
   "metadata": {},
   "outputs": [
    {
     "name": "stdout",
     "output_type": "stream",
     "text": [
      "Train_RMSE 1.057081504200144\n",
      "test_RMSE 0.7926716140367199\n",
      "Train R2 Score 0.4500087553373161\n",
      "Test R2 Score 0.49732584664775037\n"
     ]
    }
   ],
   "source": [
    "y_train_pred = svm_reg.predict(X_train)\n",
    "y_test_pred = svm_reg.predict(X_test)\n",
    "\n",
    "from sklearn.metrics import mean_squared_error, r2_score\n",
    "\n",
    "train_mse = mean_squared_error(y_train, y_train_pred)\n",
    "test_mse = mean_squared_error(y_test, y_test_pred)\n",
    "\n",
    "train_rmse = np.sqrt(train_mse)\n",
    "test_rmse = np.sqrt(test_mse)\n",
    "\n",
    "\n",
    "train_r2_score = r2_score(y_train, y_train_pred)\n",
    "test_r2_score = r2_score(y_test, y_test_pred)\n",
    "\n",
    "print('Train_RMSE', train_rmse)\n",
    "print('test_RMSE',test_rmse)\n",
    "\n",
    "print(\"Train R2 Score\", train_r2_score)\n",
    "print('Test R2 Score', test_r2_score)"
   ]
  },
  {
   "cell_type": "code",
   "execution_count": 36,
   "id": "7bccf554",
   "metadata": {},
   "outputs": [
    {
     "data": {
      "text/html": [
       "<div>\n",
       "<style scoped>\n",
       "    .dataframe tbody tr th:only-of-type {\n",
       "        vertical-align: middle;\n",
       "    }\n",
       "\n",
       "    .dataframe tbody tr th {\n",
       "        vertical-align: top;\n",
       "    }\n",
       "\n",
       "    .dataframe thead th {\n",
       "        text-align: right;\n",
       "    }\n",
       "</style>\n",
       "<table border=\"1\" class=\"dataframe\">\n",
       "  <thead>\n",
       "    <tr style=\"text-align: right;\">\n",
       "      <th></th>\n",
       "      <th>tip</th>\n",
       "    </tr>\n",
       "  </thead>\n",
       "  <tbody>\n",
       "    <tr>\n",
       "      <th>count</th>\n",
       "      <td>244.000000</td>\n",
       "    </tr>\n",
       "    <tr>\n",
       "      <th>mean</th>\n",
       "      <td>2.998279</td>\n",
       "    </tr>\n",
       "    <tr>\n",
       "      <th>std</th>\n",
       "      <td>1.383638</td>\n",
       "    </tr>\n",
       "    <tr>\n",
       "      <th>min</th>\n",
       "      <td>1.000000</td>\n",
       "    </tr>\n",
       "    <tr>\n",
       "      <th>25%</th>\n",
       "      <td>2.000000</td>\n",
       "    </tr>\n",
       "    <tr>\n",
       "      <th>50%</th>\n",
       "      <td>2.900000</td>\n",
       "    </tr>\n",
       "    <tr>\n",
       "      <th>75%</th>\n",
       "      <td>3.562500</td>\n",
       "    </tr>\n",
       "    <tr>\n",
       "      <th>max</th>\n",
       "      <td>10.000000</td>\n",
       "    </tr>\n",
       "  </tbody>\n",
       "</table>\n",
       "</div>"
      ],
      "text/plain": [
       "              tip\n",
       "count  244.000000\n",
       "mean     2.998279\n",
       "std      1.383638\n",
       "min      1.000000\n",
       "25%      2.000000\n",
       "50%      2.900000\n",
       "75%      3.562500\n",
       "max     10.000000"
      ]
     },
     "execution_count": 36,
     "metadata": {},
     "output_type": "execute_result"
    }
   ],
   "source": [
    "# lets check target value range for better understanding of rmse value\n",
    "y.describe()"
   ]
  },
  {
   "cell_type": "markdown",
   "id": "646627ec",
   "metadata": {},
   "source": [
    "- Train RMSE (1.05): This indicates that, on average, the model's predictions on the training data are off by about 1.05 units from the actual tips. Given that the mean tip is around 2.998 and the data ranges from 1 to 10, this seems like a reasonably good fit.\n",
    "- Test RMSE (0.7): This indicates that, on average, the model's predictions on the test data are off by 0.7 units from the actual tips. Since this error is even lower than the training error, your model is performing quite well on unseen data (test data)\n",
    "\n",
    "- Train R² (0.4500): Approximately 45% of the variance in the training data can be explained by the model. This indicates a moderate fit; the model captures some relationships but also leaves a substantial amount of variance unexplained.\n",
    "\n",
    "- Test R² (0.4973): About 49.7% of the variance in the test data is explained by the model, which is slightly better than the training data. This further reinforces that the model generalizes well, as it explains more variance in the test set than in the training set.\n",
    "    \n",
    "    \n",
    "- R² Measures the proportion of variance in the target variable that is explained by the model\n",
    "   - R² ranges from 0 to 1, where 1 indicates a perfect fit and 0 indicates no explanatory power.\n",
    "   - It can also be negative if the model performs worse than the mean of the data."
   ]
  },
  {
   "cell_type": "code",
   "execution_count": 39,
   "id": "f73c628f",
   "metadata": {},
   "outputs": [
    {
     "name": "stderr",
     "output_type": "stream",
     "text": [
      "/Users/saajanrajak/anaconda3/lib/python3.10/site-packages/sklearn/utils/validation.py:1143: DataConversionWarning: A column-vector y was passed when a 1d array was expected. Please change the shape of y to (n_samples, ), for example using ravel().\n",
      "  y = column_or_1d(y, warn=True)\n"
     ]
    },
    {
     "data": {
      "text/html": [
       "<style>#sk-container-id-5 {color: black;background-color: white;}#sk-container-id-5 pre{padding: 0;}#sk-container-id-5 div.sk-toggleable {background-color: white;}#sk-container-id-5 label.sk-toggleable__label {cursor: pointer;display: block;width: 100%;margin-bottom: 0;padding: 0.3em;box-sizing: border-box;text-align: center;}#sk-container-id-5 label.sk-toggleable__label-arrow:before {content: \"▸\";float: left;margin-right: 0.25em;color: #696969;}#sk-container-id-5 label.sk-toggleable__label-arrow:hover:before {color: black;}#sk-container-id-5 div.sk-estimator:hover label.sk-toggleable__label-arrow:before {color: black;}#sk-container-id-5 div.sk-toggleable__content {max-height: 0;max-width: 0;overflow: hidden;text-align: left;background-color: #f0f8ff;}#sk-container-id-5 div.sk-toggleable__content pre {margin: 0.2em;color: black;border-radius: 0.25em;background-color: #f0f8ff;}#sk-container-id-5 input.sk-toggleable__control:checked~div.sk-toggleable__content {max-height: 200px;max-width: 100%;overflow: auto;}#sk-container-id-5 input.sk-toggleable__control:checked~label.sk-toggleable__label-arrow:before {content: \"▾\";}#sk-container-id-5 div.sk-estimator input.sk-toggleable__control:checked~label.sk-toggleable__label {background-color: #d4ebff;}#sk-container-id-5 div.sk-label input.sk-toggleable__control:checked~label.sk-toggleable__label {background-color: #d4ebff;}#sk-container-id-5 input.sk-hidden--visually {border: 0;clip: rect(1px 1px 1px 1px);clip: rect(1px, 1px, 1px, 1px);height: 1px;margin: -1px;overflow: hidden;padding: 0;position: absolute;width: 1px;}#sk-container-id-5 div.sk-estimator {font-family: monospace;background-color: #f0f8ff;border: 1px dotted black;border-radius: 0.25em;box-sizing: border-box;margin-bottom: 0.5em;}#sk-container-id-5 div.sk-estimator:hover {background-color: #d4ebff;}#sk-container-id-5 div.sk-parallel-item::after {content: \"\";width: 100%;border-bottom: 1px solid gray;flex-grow: 1;}#sk-container-id-5 div.sk-label:hover label.sk-toggleable__label {background-color: #d4ebff;}#sk-container-id-5 div.sk-serial::before {content: \"\";position: absolute;border-left: 1px solid gray;box-sizing: border-box;top: 0;bottom: 0;left: 50%;z-index: 0;}#sk-container-id-5 div.sk-serial {display: flex;flex-direction: column;align-items: center;background-color: white;padding-right: 0.2em;padding-left: 0.2em;position: relative;}#sk-container-id-5 div.sk-item {position: relative;z-index: 1;}#sk-container-id-5 div.sk-parallel {display: flex;align-items: stretch;justify-content: center;background-color: white;position: relative;}#sk-container-id-5 div.sk-item::before, #sk-container-id-5 div.sk-parallel-item::before {content: \"\";position: absolute;border-left: 1px solid gray;box-sizing: border-box;top: 0;bottom: 0;left: 50%;z-index: -1;}#sk-container-id-5 div.sk-parallel-item {display: flex;flex-direction: column;z-index: 1;position: relative;background-color: white;}#sk-container-id-5 div.sk-parallel-item:first-child::after {align-self: flex-end;width: 50%;}#sk-container-id-5 div.sk-parallel-item:last-child::after {align-self: flex-start;width: 50%;}#sk-container-id-5 div.sk-parallel-item:only-child::after {width: 0;}#sk-container-id-5 div.sk-dashed-wrapped {border: 1px dashed gray;margin: 0 0.4em 0.5em 0.4em;box-sizing: border-box;padding-bottom: 0.4em;background-color: white;}#sk-container-id-5 div.sk-label label {font-family: monospace;font-weight: bold;display: inline-block;line-height: 1.2em;}#sk-container-id-5 div.sk-label-container {text-align: center;}#sk-container-id-5 div.sk-container {/* jupyter's `normalize.less` sets `[hidden] { display: none; }` but bootstrap.min.css set `[hidden] { display: none !important; }` so we also need the `!important` here to be able to override the default hidden behavior on the sphinx rendered scikit-learn.org. See: https://github.com/scikit-learn/scikit-learn/issues/21755 */display: inline-block !important;position: relative;}#sk-container-id-5 div.sk-text-repr-fallback {display: none;}</style><div id=\"sk-container-id-5\" class=\"sk-top-container\"><div class=\"sk-text-repr-fallback\"><pre>Pipeline(steps=[(&#x27;standardscaler&#x27;, StandardScaler()),\n",
       "                (&#x27;svr&#x27;, SVR(C=0.01, degree=2, kernel=&#x27;poly&#x27;))])</pre><b>In a Jupyter environment, please rerun this cell to show the HTML representation or trust the notebook. <br />On GitHub, the HTML representation is unable to render, please try loading this page with nbviewer.org.</b></div><div class=\"sk-container\" hidden><div class=\"sk-item sk-dashed-wrapped\"><div class=\"sk-label-container\"><div class=\"sk-label sk-toggleable\"><input class=\"sk-toggleable__control sk-hidden--visually\" id=\"sk-estimator-id-14\" type=\"checkbox\" ><label for=\"sk-estimator-id-14\" class=\"sk-toggleable__label sk-toggleable__label-arrow\">Pipeline</label><div class=\"sk-toggleable__content\"><pre>Pipeline(steps=[(&#x27;standardscaler&#x27;, StandardScaler()),\n",
       "                (&#x27;svr&#x27;, SVR(C=0.01, degree=2, kernel=&#x27;poly&#x27;))])</pre></div></div></div><div class=\"sk-serial\"><div class=\"sk-item\"><div class=\"sk-estimator sk-toggleable\"><input class=\"sk-toggleable__control sk-hidden--visually\" id=\"sk-estimator-id-15\" type=\"checkbox\" ><label for=\"sk-estimator-id-15\" class=\"sk-toggleable__label sk-toggleable__label-arrow\">StandardScaler</label><div class=\"sk-toggleable__content\"><pre>StandardScaler()</pre></div></div></div><div class=\"sk-item\"><div class=\"sk-estimator sk-toggleable\"><input class=\"sk-toggleable__control sk-hidden--visually\" id=\"sk-estimator-id-16\" type=\"checkbox\" ><label for=\"sk-estimator-id-16\" class=\"sk-toggleable__label sk-toggleable__label-arrow\">SVR</label><div class=\"sk-toggleable__content\"><pre>SVR(C=0.01, degree=2, kernel=&#x27;poly&#x27;)</pre></div></div></div></div></div></div></div>"
      ],
      "text/plain": [
       "Pipeline(steps=[('standardscaler', StandardScaler()),\n",
       "                ('svr', SVR(C=0.01, degree=2, kernel='poly'))])"
      ]
     },
     "execution_count": 39,
     "metadata": {},
     "output_type": "execute_result"
    }
   ],
   "source": [
    "# Lets use it kernel\n",
    "\n",
    "from sklearn.svm import SVR\n",
    "\n",
    "svm_poly_reg = make_pipeline(StandardScaler(),\n",
    "                            SVR(kernel = 'poly', degree = 2, \n",
    "                               C = 0.01, epsilon = 0.1))\n",
    "\n",
    "svm_poly_reg.fit(X_train, y_train)"
   ]
  },
  {
   "cell_type": "code",
   "execution_count": 41,
   "id": "d71d4f43",
   "metadata": {},
   "outputs": [
    {
     "name": "stdout",
     "output_type": "stream",
     "text": [
      "Train_RMSE_poly 1.3385743504041308\n",
      "test_RMSE_poly 1.0994426785465485\n",
      "Train R2 Score_poly 0.11809089646271964\n",
      "Test R2 Score_poly 0.0329584690233059\n"
     ]
    }
   ],
   "source": [
    "y_train_pred_poly = svm_poly_reg.predict(X_train)\n",
    "y_test_pred_poly = svm_poly_reg.predict(X_test)\n",
    "\n",
    "from sklearn.metrics import mean_squared_error, r2_score\n",
    "\n",
    "train_mse_poly = mean_squared_error(y_train, y_train_pred_poly)\n",
    "test_mse_poly = mean_squared_error(y_test, y_test_pred_poly)\n",
    "\n",
    "train_rmse_poly = np.sqrt(train_mse_poly)\n",
    "test_rmse_poly = np.sqrt(test_mse_poly)\n",
    "\n",
    "\n",
    "train_r2_score_poly = r2_score(y_train, y_train_pred_poly)\n",
    "test_r2_score_poly = r2_score(y_test, y_test_pred_poly)\n",
    "\n",
    "print('Train_RMSE_poly', train_rmse_poly)\n",
    "print('test_RMSE_poly',tbest_rmse_poly)\n",
    "\n",
    "print(\"Train R2 Score_poly\", train_r2_score_poly)\n",
    "print('Test R2 Score_poly', test_r2_score_poly)"
   ]
  },
  {
   "cell_type": "code",
   "execution_count": 69,
   "id": "fb613edb",
   "metadata": {},
   "outputs": [
    {
     "name": "stderr",
     "output_type": "stream",
     "text": [
      "/Users/saajanrajak/anaconda3/lib/python3.10/site-packages/sklearn/utils/validation.py:1143: DataConversionWarning: A column-vector y was passed when a 1d array was expected. Please change the shape of y to (n_samples, ), for example using ravel().\n",
      "  y = column_or_1d(y, warn=True)\n"
     ]
    },
    {
     "data": {
      "text/html": [
       "<style>#sk-container-id-18 {color: black;background-color: white;}#sk-container-id-18 pre{padding: 0;}#sk-container-id-18 div.sk-toggleable {background-color: white;}#sk-container-id-18 label.sk-toggleable__label {cursor: pointer;display: block;width: 100%;margin-bottom: 0;padding: 0.3em;box-sizing: border-box;text-align: center;}#sk-container-id-18 label.sk-toggleable__label-arrow:before {content: \"▸\";float: left;margin-right: 0.25em;color: #696969;}#sk-container-id-18 label.sk-toggleable__label-arrow:hover:before {color: black;}#sk-container-id-18 div.sk-estimator:hover label.sk-toggleable__label-arrow:before {color: black;}#sk-container-id-18 div.sk-toggleable__content {max-height: 0;max-width: 0;overflow: hidden;text-align: left;background-color: #f0f8ff;}#sk-container-id-18 div.sk-toggleable__content pre {margin: 0.2em;color: black;border-radius: 0.25em;background-color: #f0f8ff;}#sk-container-id-18 input.sk-toggleable__control:checked~div.sk-toggleable__content {max-height: 200px;max-width: 100%;overflow: auto;}#sk-container-id-18 input.sk-toggleable__control:checked~label.sk-toggleable__label-arrow:before {content: \"▾\";}#sk-container-id-18 div.sk-estimator input.sk-toggleable__control:checked~label.sk-toggleable__label {background-color: #d4ebff;}#sk-container-id-18 div.sk-label input.sk-toggleable__control:checked~label.sk-toggleable__label {background-color: #d4ebff;}#sk-container-id-18 input.sk-hidden--visually {border: 0;clip: rect(1px 1px 1px 1px);clip: rect(1px, 1px, 1px, 1px);height: 1px;margin: -1px;overflow: hidden;padding: 0;position: absolute;width: 1px;}#sk-container-id-18 div.sk-estimator {font-family: monospace;background-color: #f0f8ff;border: 1px dotted black;border-radius: 0.25em;box-sizing: border-box;margin-bottom: 0.5em;}#sk-container-id-18 div.sk-estimator:hover {background-color: #d4ebff;}#sk-container-id-18 div.sk-parallel-item::after {content: \"\";width: 100%;border-bottom: 1px solid gray;flex-grow: 1;}#sk-container-id-18 div.sk-label:hover label.sk-toggleable__label {background-color: #d4ebff;}#sk-container-id-18 div.sk-serial::before {content: \"\";position: absolute;border-left: 1px solid gray;box-sizing: border-box;top: 0;bottom: 0;left: 50%;z-index: 0;}#sk-container-id-18 div.sk-serial {display: flex;flex-direction: column;align-items: center;background-color: white;padding-right: 0.2em;padding-left: 0.2em;position: relative;}#sk-container-id-18 div.sk-item {position: relative;z-index: 1;}#sk-container-id-18 div.sk-parallel {display: flex;align-items: stretch;justify-content: center;background-color: white;position: relative;}#sk-container-id-18 div.sk-item::before, #sk-container-id-18 div.sk-parallel-item::before {content: \"\";position: absolute;border-left: 1px solid gray;box-sizing: border-box;top: 0;bottom: 0;left: 50%;z-index: -1;}#sk-container-id-18 div.sk-parallel-item {display: flex;flex-direction: column;z-index: 1;position: relative;background-color: white;}#sk-container-id-18 div.sk-parallel-item:first-child::after {align-self: flex-end;width: 50%;}#sk-container-id-18 div.sk-parallel-item:last-child::after {align-self: flex-start;width: 50%;}#sk-container-id-18 div.sk-parallel-item:only-child::after {width: 0;}#sk-container-id-18 div.sk-dashed-wrapped {border: 1px dashed gray;margin: 0 0.4em 0.5em 0.4em;box-sizing: border-box;padding-bottom: 0.4em;background-color: white;}#sk-container-id-18 div.sk-label label {font-family: monospace;font-weight: bold;display: inline-block;line-height: 1.2em;}#sk-container-id-18 div.sk-label-container {text-align: center;}#sk-container-id-18 div.sk-container {/* jupyter's `normalize.less` sets `[hidden] { display: none; }` but bootstrap.min.css set `[hidden] { display: none !important; }` so we also need the `!important` here to be able to override the default hidden behavior on the sphinx rendered scikit-learn.org. See: https://github.com/scikit-learn/scikit-learn/issues/21755 */display: inline-block !important;position: relative;}#sk-container-id-18 div.sk-text-repr-fallback {display: none;}</style><div id=\"sk-container-id-18\" class=\"sk-top-container\"><div class=\"sk-text-repr-fallback\"><pre>Pipeline(steps=[(&#x27;standardscaler&#x27;, StandardScaler()), (&#x27;svr&#x27;, SVR(C=10))])</pre><b>In a Jupyter environment, please rerun this cell to show the HTML representation or trust the notebook. <br />On GitHub, the HTML representation is unable to render, please try loading this page with nbviewer.org.</b></div><div class=\"sk-container\" hidden><div class=\"sk-item sk-dashed-wrapped\"><div class=\"sk-label-container\"><div class=\"sk-label sk-toggleable\"><input class=\"sk-toggleable__control sk-hidden--visually\" id=\"sk-estimator-id-53\" type=\"checkbox\" ><label for=\"sk-estimator-id-53\" class=\"sk-toggleable__label sk-toggleable__label-arrow\">Pipeline</label><div class=\"sk-toggleable__content\"><pre>Pipeline(steps=[(&#x27;standardscaler&#x27;, StandardScaler()), (&#x27;svr&#x27;, SVR(C=10))])</pre></div></div></div><div class=\"sk-serial\"><div class=\"sk-item\"><div class=\"sk-estimator sk-toggleable\"><input class=\"sk-toggleable__control sk-hidden--visually\" id=\"sk-estimator-id-54\" type=\"checkbox\" ><label for=\"sk-estimator-id-54\" class=\"sk-toggleable__label sk-toggleable__label-arrow\">StandardScaler</label><div class=\"sk-toggleable__content\"><pre>StandardScaler()</pre></div></div></div><div class=\"sk-item\"><div class=\"sk-estimator sk-toggleable\"><input class=\"sk-toggleable__control sk-hidden--visually\" id=\"sk-estimator-id-55\" type=\"checkbox\" ><label for=\"sk-estimator-id-55\" class=\"sk-toggleable__label sk-toggleable__label-arrow\">SVR</label><div class=\"sk-toggleable__content\"><pre>SVR(C=10)</pre></div></div></div></div></div></div></div>"
      ],
      "text/plain": [
       "Pipeline(steps=[('standardscaler', StandardScaler()), ('svr', SVR(C=10))])"
      ]
     },
     "execution_count": 69,
     "metadata": {},
     "output_type": "execute_result"
    }
   ],
   "source": [
    "# Lets use it kernel\n",
    "\n",
    "from sklearn.svm import SVR\n",
    "\n",
    "svm_rbf_reg = make_pipeline(StandardScaler(),\n",
    "                            SVR(kernel = 'rbf', \n",
    "                               C = 10, epsilon = 0.1))\n",
    "\n",
    "svm_rbf_reg.fit(X_train, y_train)"
   ]
  },
  {
   "cell_type": "code",
   "execution_count": 70,
   "id": "0b524120",
   "metadata": {},
   "outputs": [
    {
     "name": "stdout",
     "output_type": "stream",
     "text": [
      "Train_RMSE_rbf 0.9603610026230917\n",
      "test_RMSE_rbf 0.747283402263476\n",
      "Train R2 Score_rbf 0.5460501670244313\n",
      "Test R2 Score_rbf 0.55324377201895\n"
     ]
    }
   ],
   "source": [
    "y_train_pred_rbf = svm_rbf_reg.predict(X_train)\n",
    "y_test_pred_rbf = svm_rbf_reg.predict(X_test)\n",
    "\n",
    "from sklearn.metrics import mean_squared_error, r2_score\n",
    "\n",
    "train_mse_rbf = mean_squared_error(y_train, y_train_pred_rbf)\n",
    "test_mse_rbf = mean_squared_error(y_test, y_test_pred_rbf)\n",
    "\n",
    "train_rmse_rbf = np.sqrt(train_mse_rbf)\n",
    "test_rmse_rbf = np.sqrt(test_mse_rbf)\n",
    "\n",
    "\n",
    "train_r2_score_rbf = r2_score(y_train, y_train_pred_rbf)\n",
    "test_r2_score_rbf = r2_score(y_test, y_test_pred_rbf)\n",
    "\n",
    "print('Train_RMSE_rbf', train_rmse_rbf)\n",
    "print('test_RMSE_rbf',test_rmse_rbf)\n",
    "\n",
    "print(\"Train R2 Score_rbf\", train_r2_score_rbf)\n",
    "print('Test R2 Score_rbf', test_r2_score_rbf)"
   ]
  },
  {
   "cell_type": "markdown",
   "id": "cf398f69",
   "metadata": {},
   "source": [
    "**Interpretation    ----**\n",
    "\n",
    "\n",
    "- results from your RBF kernel SVR model show improvements compared to the previous polynomial kernel model, and they are more comparable to  linear SVR model.\n",
    "\n",
    "- Low RMSE Value\n",
    "- High R2 score value\n",
    "\n",
    "\n",
    "**C Parameter:**\n",
    "\n",
    "- The C parameter controls the trade-off between achieving a low training error and a low testing error.\n",
    "- Setting C = 10 indicates a stronger emphasis on minimizing training error, allowing the model more flexibility to fit the training data while still trying to generalize well to the test data. A higher value of C generally leads to a more complex model that can fit the training data better, which is reflected in the lower RMSE and higher R² scores.\n",
    "\n",
    "\n",
    "**Epsilon Parameter:**\n",
    "\n",
    "- The epsilon (ε) parameter defines the margin of tolerance where no penalty is given to errors. An epsilon value of 0.1 means that predictions can deviate from the actual values by up to 0.1 without incurring a loss. This choice of epsilon helps create a wider margin for error, making the model more robust to noise in the data.\n",
    "- This value strikes a balance, allowing the model to ignore small errors while still being sensitive to larger deviations, which can help with both training and test performance\n",
    "\n",
    "**Future Steps**\n",
    "- perhaps using Grid Search for finding best C and Epsilon value"
   ]
  },
  {
   "cell_type": "code",
   "execution_count": null,
   "id": "3fb0c785",
   "metadata": {},
   "outputs": [],
   "source": []
  }
 ],
 "metadata": {
  "kernelspec": {
   "display_name": "Python 3 (ipykernel)",
   "language": "python",
   "name": "python3"
  },
  "language_info": {
   "codemirror_mode": {
    "name": "ipython",
    "version": 3
   },
   "file_extension": ".py",
   "mimetype": "text/x-python",
   "name": "python",
   "nbconvert_exporter": "python",
   "pygments_lexer": "ipython3",
   "version": "3.10.9"
  }
 },
 "nbformat": 4,
 "nbformat_minor": 5
}
